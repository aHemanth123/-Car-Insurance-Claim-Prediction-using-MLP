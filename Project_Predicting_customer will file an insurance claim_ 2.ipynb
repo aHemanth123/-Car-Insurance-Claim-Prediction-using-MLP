{
  "cells": [
    {
      "cell_type": "code",
      "execution_count": 68,
      "metadata": {
        "colab": {
          "base_uri": "https://localhost:8080/"
        },
        "id": "T1c7Q9T77r3O",
        "outputId": "ed2516d5-0bc9-4aae-d3bc-67c90cef5718"
      },
      "outputs": [
        {
          "output_type": "stream",
          "name": "stdout",
          "text": [
            "Requirement already satisfied: tensorflow in /usr/local/lib/python3.11/dist-packages (2.18.0)\n",
            "Requirement already satisfied: keras in /usr/local/lib/python3.11/dist-packages (3.8.0)\n",
            "Requirement already satisfied: keras-tuner in /usr/local/lib/python3.11/dist-packages (1.4.7)\n",
            "Requirement already satisfied: scikit-learn in /usr/local/lib/python3.11/dist-packages (1.6.1)\n",
            "Requirement already satisfied: pandas in /usr/local/lib/python3.11/dist-packages (2.2.2)\n",
            "Requirement already satisfied: matplotlib in /usr/local/lib/python3.11/dist-packages (3.10.0)\n",
            "Requirement already satisfied: seaborn in /usr/local/lib/python3.11/dist-packages (0.13.2)\n",
            "Requirement already satisfied: absl-py>=1.0.0 in /usr/local/lib/python3.11/dist-packages (from tensorflow) (1.4.0)\n",
            "Requirement already satisfied: astunparse>=1.6.0 in /usr/local/lib/python3.11/dist-packages (from tensorflow) (1.6.3)\n",
            "Requirement already satisfied: flatbuffers>=24.3.25 in /usr/local/lib/python3.11/dist-packages (from tensorflow) (25.2.10)\n",
            "Requirement already satisfied: gast!=0.5.0,!=0.5.1,!=0.5.2,>=0.2.1 in /usr/local/lib/python3.11/dist-packages (from tensorflow) (0.6.0)\n",
            "Requirement already satisfied: google-pasta>=0.1.1 in /usr/local/lib/python3.11/dist-packages (from tensorflow) (0.2.0)\n",
            "Requirement already satisfied: libclang>=13.0.0 in /usr/local/lib/python3.11/dist-packages (from tensorflow) (18.1.1)\n",
            "Requirement already satisfied: opt-einsum>=2.3.2 in /usr/local/lib/python3.11/dist-packages (from tensorflow) (3.4.0)\n",
            "Requirement already satisfied: packaging in /usr/local/lib/python3.11/dist-packages (from tensorflow) (24.2)\n",
            "Requirement already satisfied: protobuf!=4.21.0,!=4.21.1,!=4.21.2,!=4.21.3,!=4.21.4,!=4.21.5,<6.0.0dev,>=3.20.3 in /usr/local/lib/python3.11/dist-packages (from tensorflow) (5.29.5)\n",
            "Requirement already satisfied: requests<3,>=2.21.0 in /usr/local/lib/python3.11/dist-packages (from tensorflow) (2.32.3)\n",
            "Requirement already satisfied: setuptools in /usr/local/lib/python3.11/dist-packages (from tensorflow) (75.2.0)\n",
            "Requirement already satisfied: six>=1.12.0 in /usr/local/lib/python3.11/dist-packages (from tensorflow) (1.17.0)\n",
            "Requirement already satisfied: termcolor>=1.1.0 in /usr/local/lib/python3.11/dist-packages (from tensorflow) (3.1.0)\n",
            "Requirement already satisfied: typing-extensions>=3.6.6 in /usr/local/lib/python3.11/dist-packages (from tensorflow) (4.14.0)\n",
            "Requirement already satisfied: wrapt>=1.11.0 in /usr/local/lib/python3.11/dist-packages (from tensorflow) (1.17.2)\n",
            "Requirement already satisfied: grpcio<2.0,>=1.24.3 in /usr/local/lib/python3.11/dist-packages (from tensorflow) (1.73.0)\n",
            "Requirement already satisfied: tensorboard<2.19,>=2.18 in /usr/local/lib/python3.11/dist-packages (from tensorflow) (2.18.0)\n",
            "Requirement already satisfied: numpy<2.1.0,>=1.26.0 in /usr/local/lib/python3.11/dist-packages (from tensorflow) (2.0.2)\n",
            "Requirement already satisfied: h5py>=3.11.0 in /usr/local/lib/python3.11/dist-packages (from tensorflow) (3.14.0)\n",
            "Requirement already satisfied: ml-dtypes<0.5.0,>=0.4.0 in /usr/local/lib/python3.11/dist-packages (from tensorflow) (0.4.1)\n",
            "Requirement already satisfied: tensorflow-io-gcs-filesystem>=0.23.1 in /usr/local/lib/python3.11/dist-packages (from tensorflow) (0.37.1)\n",
            "Requirement already satisfied: rich in /usr/local/lib/python3.11/dist-packages (from keras) (13.9.4)\n",
            "Requirement already satisfied: namex in /usr/local/lib/python3.11/dist-packages (from keras) (0.1.0)\n",
            "Requirement already satisfied: optree in /usr/local/lib/python3.11/dist-packages (from keras) (0.16.0)\n",
            "Requirement already satisfied: kt-legacy in /usr/local/lib/python3.11/dist-packages (from keras-tuner) (1.0.5)\n",
            "Requirement already satisfied: scipy>=1.6.0 in /usr/local/lib/python3.11/dist-packages (from scikit-learn) (1.15.3)\n",
            "Requirement already satisfied: joblib>=1.2.0 in /usr/local/lib/python3.11/dist-packages (from scikit-learn) (1.5.1)\n",
            "Requirement already satisfied: threadpoolctl>=3.1.0 in /usr/local/lib/python3.11/dist-packages (from scikit-learn) (3.6.0)\n",
            "Requirement already satisfied: python-dateutil>=2.8.2 in /usr/local/lib/python3.11/dist-packages (from pandas) (2.9.0.post0)\n",
            "Requirement already satisfied: pytz>=2020.1 in /usr/local/lib/python3.11/dist-packages (from pandas) (2025.2)\n",
            "Requirement already satisfied: tzdata>=2022.7 in /usr/local/lib/python3.11/dist-packages (from pandas) (2025.2)\n",
            "Requirement already satisfied: contourpy>=1.0.1 in /usr/local/lib/python3.11/dist-packages (from matplotlib) (1.3.2)\n",
            "Requirement already satisfied: cycler>=0.10 in /usr/local/lib/python3.11/dist-packages (from matplotlib) (0.12.1)\n",
            "Requirement already satisfied: fonttools>=4.22.0 in /usr/local/lib/python3.11/dist-packages (from matplotlib) (4.58.4)\n",
            "Requirement already satisfied: kiwisolver>=1.3.1 in /usr/local/lib/python3.11/dist-packages (from matplotlib) (1.4.8)\n",
            "Requirement already satisfied: pillow>=8 in /usr/local/lib/python3.11/dist-packages (from matplotlib) (11.2.1)\n",
            "Requirement already satisfied: pyparsing>=2.3.1 in /usr/local/lib/python3.11/dist-packages (from matplotlib) (3.2.3)\n",
            "Requirement already satisfied: wheel<1.0,>=0.23.0 in /usr/local/lib/python3.11/dist-packages (from astunparse>=1.6.0->tensorflow) (0.45.1)\n",
            "Requirement already satisfied: charset-normalizer<4,>=2 in /usr/local/lib/python3.11/dist-packages (from requests<3,>=2.21.0->tensorflow) (3.4.2)\n",
            "Requirement already satisfied: idna<4,>=2.5 in /usr/local/lib/python3.11/dist-packages (from requests<3,>=2.21.0->tensorflow) (3.10)\n",
            "Requirement already satisfied: urllib3<3,>=1.21.1 in /usr/local/lib/python3.11/dist-packages (from requests<3,>=2.21.0->tensorflow) (2.4.0)\n",
            "Requirement already satisfied: certifi>=2017.4.17 in /usr/local/lib/python3.11/dist-packages (from requests<3,>=2.21.0->tensorflow) (2025.6.15)\n",
            "Requirement already satisfied: markdown>=2.6.8 in /usr/local/lib/python3.11/dist-packages (from tensorboard<2.19,>=2.18->tensorflow) (3.8.2)\n",
            "Requirement already satisfied: tensorboard-data-server<0.8.0,>=0.7.0 in /usr/local/lib/python3.11/dist-packages (from tensorboard<2.19,>=2.18->tensorflow) (0.7.2)\n",
            "Requirement already satisfied: werkzeug>=1.0.1 in /usr/local/lib/python3.11/dist-packages (from tensorboard<2.19,>=2.18->tensorflow) (3.1.3)\n",
            "Requirement already satisfied: markdown-it-py>=2.2.0 in /usr/local/lib/python3.11/dist-packages (from rich->keras) (3.0.0)\n",
            "Requirement already satisfied: pygments<3.0.0,>=2.13.0 in /usr/local/lib/python3.11/dist-packages (from rich->keras) (2.19.2)\n",
            "Requirement already satisfied: mdurl~=0.1 in /usr/local/lib/python3.11/dist-packages (from markdown-it-py>=2.2.0->rich->keras) (0.1.2)\n",
            "Requirement already satisfied: MarkupSafe>=2.1.1 in /usr/local/lib/python3.11/dist-packages (from werkzeug>=1.0.1->tensorboard<2.19,>=2.18->tensorflow) (3.0.2)\n"
          ]
        }
      ],
      "source": [
        "pip install tensorflow keras keras-tuner scikit-learn pandas matplotlib seaborn\n"
      ]
    },
    {
      "cell_type": "markdown",
      "source": [
        "# Car Insurance Claim Prediction with MLP Full Deep Learning Pipeline\n",
        "\n",
        "#   Import Libraries"
      ],
      "metadata": {
        "id": "Lkm8FOU-HWuh"
      }
    },
    {
      "cell_type": "code",
      "source": [
        "\n",
        "import pandas as pd\n",
        "import numpy as np\n",
        "import matplotlib.pyplot as plt\n",
        "import seaborn as sns\n",
        "\n",
        "from sklearn.model_selection import train_test_split\n",
        "from sklearn.preprocessing import StandardScaler\n",
        "from sklearn.metrics import classification_report, confusion_matrix, roc_auc_score\n"
      ],
      "metadata": {
        "id": "FH1oiV-_94Zk"
      },
      "execution_count": 69,
      "outputs": []
    },
    {
      "cell_type": "code",
      "source": [
        "import tensorflow as tf\n",
        "from tensorflow import keras\n",
        "from tensorflow.keras import layers, regularizers, initializers\n",
        "from tensorflow.keras.callbacks import EarlyStopping\n",
        "\n",
        "import keras_tuner as kt\n"
      ],
      "metadata": {
        "id": "Gc5Ohlcf9_6p"
      },
      "execution_count": 70,
      "outputs": []
    },
    {
      "cell_type": "markdown",
      "source": [
        "#   Load Dataset"
      ],
      "metadata": {
        "id": "UgA5L_vYHcQm"
      }
    },
    {
      "cell_type": "code",
      "source": [
        "df = pd.read_csv(\"/content/car_insurance_claim.csv\")  # Ensure correct file path"
      ],
      "metadata": {
        "id": "zEUNBbe3-Dm7"
      },
      "execution_count": 71,
      "outputs": []
    },
    {
      "cell_type": "markdown",
      "source": [
        "#   Data Preprocessing"
      ],
      "metadata": {
        "id": "Kl-tR4ClHfq7"
      }
    },
    {
      "cell_type": "code",
      "source": [
        "print(df.info())"
      ],
      "metadata": {
        "colab": {
          "base_uri": "https://localhost:8080/"
        },
        "id": "t41LXV4w-E2J",
        "outputId": "775c22b4-6808-4120-acc6-67d8477fe6a1"
      },
      "execution_count": 72,
      "outputs": [
        {
          "output_type": "stream",
          "name": "stdout",
          "text": [
            "<class 'pandas.core.frame.DataFrame'>\n",
            "RangeIndex: 10302 entries, 0 to 10301\n",
            "Data columns (total 27 columns):\n",
            " #   Column      Non-Null Count  Dtype  \n",
            "---  ------      --------------  -----  \n",
            " 0   ID          10302 non-null  int64  \n",
            " 1   KIDSDRIV    10302 non-null  int64  \n",
            " 2   BIRTH       10302 non-null  object \n",
            " 3   AGE         10295 non-null  float64\n",
            " 4   HOMEKIDS    10302 non-null  int64  \n",
            " 5   YOJ         9754 non-null   float64\n",
            " 6   INCOME      9732 non-null   object \n",
            " 7   PARENT1     10302 non-null  object \n",
            " 8   HOME_VAL    9727 non-null   object \n",
            " 9   MSTATUS     10302 non-null  object \n",
            " 10  GENDER      10302 non-null  object \n",
            " 11  EDUCATION   10302 non-null  object \n",
            " 12  OCCUPATION  9637 non-null   object \n",
            " 13  TRAVTIME    10302 non-null  int64  \n",
            " 14  CAR_USE     10302 non-null  object \n",
            " 15  BLUEBOOK    10302 non-null  object \n",
            " 16  TIF         10302 non-null  int64  \n",
            " 17  CAR_TYPE    10302 non-null  object \n",
            " 18  RED_CAR     10302 non-null  object \n",
            " 19  OLDCLAIM    10302 non-null  object \n",
            " 20  CLM_FREQ    10302 non-null  int64  \n",
            " 21  REVOKED     10302 non-null  object \n",
            " 22  MVR_PTS     10302 non-null  int64  \n",
            " 23  CLM_AMT     10302 non-null  object \n",
            " 24  CAR_AGE     9663 non-null   float64\n",
            " 25  CLAIM_FLAG  10302 non-null  int64  \n",
            " 26  URBANICITY  10302 non-null  object \n",
            "dtypes: float64(3), int64(8), object(16)\n",
            "memory usage: 2.1+ MB\n",
            "None\n"
          ]
        }
      ]
    },
    {
      "cell_type": "code",
      "source": [
        "print(df.describe())"
      ],
      "metadata": {
        "colab": {
          "base_uri": "https://localhost:8080/"
        },
        "id": "WPhlGx8a-LEi",
        "outputId": "ebecaa6f-3ddf-4fba-b3e4-c9769348487e"
      },
      "execution_count": 73,
      "outputs": [
        {
          "output_type": "stream",
          "name": "stdout",
          "text": [
            "                 ID      KIDSDRIV           AGE      HOMEKIDS          YOJ  \\\n",
            "count  1.030200e+04  10302.000000  10295.000000  10302.000000  9754.000000   \n",
            "mean   4.956631e+08      0.169288     44.837397      0.720443    10.474062   \n",
            "std    2.864675e+08      0.506512      8.606445      1.116323     4.108943   \n",
            "min    6.317500e+04      0.000000     16.000000      0.000000     0.000000   \n",
            "25%    2.442869e+08      0.000000     39.000000      0.000000     9.000000   \n",
            "50%    4.970043e+08      0.000000     45.000000      0.000000    11.000000   \n",
            "75%    7.394551e+08      0.000000     51.000000      1.000000    13.000000   \n",
            "max    9.999264e+08      4.000000     81.000000      5.000000    23.000000   \n",
            "\n",
            "           TRAVTIME           TIF      CLM_FREQ       MVR_PTS      CAR_AGE  \\\n",
            "count  10302.000000  10302.000000  10302.000000  10302.000000  9663.000000   \n",
            "mean      33.416424      5.329159      0.800718      1.710153     8.298148   \n",
            "std       15.869687      4.110795      1.154079      2.159015     5.714450   \n",
            "min        5.000000      1.000000      0.000000      0.000000    -3.000000   \n",
            "25%       22.000000      1.000000      0.000000      0.000000     1.000000   \n",
            "50%       33.000000      4.000000      0.000000      1.000000     8.000000   \n",
            "75%       44.000000      7.000000      2.000000      3.000000    12.000000   \n",
            "max      142.000000     25.000000      5.000000     13.000000    28.000000   \n",
            "\n",
            "         CLAIM_FLAG  \n",
            "count  10302.000000  \n",
            "mean       0.266550  \n",
            "std        0.442177  \n",
            "min        0.000000  \n",
            "25%        0.000000  \n",
            "50%        0.000000  \n",
            "75%        1.000000  \n",
            "max        1.000000  \n"
          ]
        }
      ]
    },
    {
      "cell_type": "code",
      "source": [
        "\n",
        "print(df.isnull().sum())"
      ],
      "metadata": {
        "colab": {
          "base_uri": "https://localhost:8080/"
        },
        "id": "WsA02Lsu-NX1",
        "outputId": "01ed6443-cd99-4cd6-88f3-d269813c384c"
      },
      "execution_count": 74,
      "outputs": [
        {
          "output_type": "stream",
          "name": "stdout",
          "text": [
            "ID              0\n",
            "KIDSDRIV        0\n",
            "BIRTH           0\n",
            "AGE             7\n",
            "HOMEKIDS        0\n",
            "YOJ           548\n",
            "INCOME        570\n",
            "PARENT1         0\n",
            "HOME_VAL      575\n",
            "MSTATUS         0\n",
            "GENDER          0\n",
            "EDUCATION       0\n",
            "OCCUPATION    665\n",
            "TRAVTIME        0\n",
            "CAR_USE         0\n",
            "BLUEBOOK        0\n",
            "TIF             0\n",
            "CAR_TYPE        0\n",
            "RED_CAR         0\n",
            "OLDCLAIM        0\n",
            "CLM_FREQ        0\n",
            "REVOKED         0\n",
            "MVR_PTS         0\n",
            "CLM_AMT         0\n",
            "CAR_AGE       639\n",
            "CLAIM_FLAG      0\n",
            "URBANICITY      0\n",
            "dtype: int64\n"
          ]
        }
      ]
    },
    {
      "cell_type": "markdown",
      "source": [
        "# Numerical Columns"
      ],
      "metadata": {
        "id": "S1zBSwhhJYbp"
      }
    },
    {
      "cell_type": "code",
      "source": [
        "num_cols = ['AGE', 'YOJ', 'INCOME', 'HOME_VAL', 'CAR_AGE']\n",
        "for col in num_cols:\n",
        "    df[col] = df[col].replace('[\\\\$,]', '', regex=True)\n",
        "    df[col] = pd.to_numeric(df[col], errors='coerce')\n",
        "    df[col].fillna(df[col].median(), inplace=True)\n"
      ],
      "metadata": {
        "id": "TpTO1-vhDYQS"
      },
      "execution_count": 75,
      "outputs": []
    },
    {
      "cell_type": "code",
      "source": [
        "df['OCCUPATION'].fillna('Unknown', inplace=True)\n"
      ],
      "metadata": {
        "id": "xF8IEVKkDZ99"
      },
      "execution_count": 76,
      "outputs": []
    },
    {
      "cell_type": "code",
      "source": [
        "df.drop(columns=[\"ID\"], inplace=True, errors='ignore')"
      ],
      "metadata": {
        "id": "qvgq2fg0-QGW"
      },
      "execution_count": 77,
      "outputs": []
    },
    {
      "cell_type": "code",
      "source": [
        "\n",
        "df['BIRTH'] = pd.to_datetime(df['BIRTH'], format='%d%b%y', errors='coerce')\n",
        "df['AGE_FROM_BIRTH'] = 2024 - df['BIRTH'].dt.year\n",
        "df.drop(columns=['BIRTH'], inplace=True)"
      ],
      "metadata": {
        "id": "hW63XaCvANQz"
      },
      "execution_count": 78,
      "outputs": []
    },
    {
      "cell_type": "code",
      "source": [
        "# Convert currency fields to float\n",
        "currency_cols = ['INCOME', 'HOME_VAL', 'BLUEBOOK', 'OLDCLAIM', 'CLM_AMT']\n",
        "for col in currency_cols:\n",
        "    df[col] = df[col].replace('[\\$,]', '', regex=True).astype(float)"
      ],
      "metadata": {
        "id": "2taQP0TYAPNA"
      },
      "execution_count": 79,
      "outputs": []
    },
    {
      "cell_type": "markdown",
      "source": [
        "#   Categorical columns"
      ],
      "metadata": {
        "id": "-1YzZ8-5IDNH"
      }
    },
    {
      "cell_type": "code",
      "source": [
        "\n",
        "categorical_cols = [\n",
        "    'PARENT1', 'MSTATUS', 'GENDER', 'EDUCATION', 'OCCUPATION',\n",
        "    'CAR_USE', 'CAR_TYPE', 'RED_CAR', 'REVOKED', 'URBANICITY'\n",
        "]"
      ],
      "metadata": {
        "id": "o2DKLb3W-UFH"
      },
      "execution_count": 80,
      "outputs": []
    },
    {
      "cell_type": "code",
      "source": [
        "df = pd.get_dummies(df, columns=categorical_cols, drop_first=True)\n",
        "\n",
        "df.dropna(inplace=True)"
      ],
      "metadata": {
        "id": "RVJthUOS-XAn"
      },
      "execution_count": 81,
      "outputs": []
    },
    {
      "cell_type": "markdown",
      "source": [
        "# Splitting"
      ],
      "metadata": {
        "id": "GHKhe0VwIHEA"
      }
    },
    {
      "cell_type": "code",
      "source": [
        "\n",
        "X = df.drop(\"CLAIM_FLAG\", axis=1)\n",
        "y = df[\"CLAIM_FLAG\"]\n",
        "X_train, X_test, y_train, y_test = train_test_split(X, y, test_size=0.2, random_state=42)\n"
      ],
      "metadata": {
        "id": "H23VRdrt_k7s"
      },
      "execution_count": 82,
      "outputs": []
    },
    {
      "cell_type": "markdown",
      "source": [
        "# Scaling"
      ],
      "metadata": {
        "id": "GdO-qJrhILsE"
      }
    },
    {
      "cell_type": "code",
      "source": [
        "\n",
        "scaler = StandardScaler()\n",
        "X_train_scaled = scaler.fit_transform(X_train)\n",
        "X_test_scaled = scaler.transform(X_test)"
      ],
      "metadata": {
        "id": "ywSee4W3_t1R"
      },
      "execution_count": 83,
      "outputs": []
    },
    {
      "cell_type": "markdown",
      "source": [
        "\n",
        "#   Baseline Perceptron"
      ],
      "metadata": {
        "id": "m7NvyiNIIO19"
      }
    },
    {
      "cell_type": "code",
      "source": [
        "\n",
        "baseline = keras.Sequential([\n",
        "    layers.Dense(1, activation=\"sigmoid\", input_shape=(X_train_scaled.shape[1],))\n",
        "])\n",
        "baseline.compile(optimizer=\"adam\", loss=\"binary_crossentropy\", metrics=[\"accuracy\"])\n",
        "baseline.fit(X_train_scaled, y_train, epochs=10, validation_split=0.2, verbose=0)\n",
        "print(\"Baseline Evaluation:\", baseline.evaluate(X_test_scaled, y_test))"
      ],
      "metadata": {
        "colab": {
          "base_uri": "https://localhost:8080/"
        },
        "id": "eLhjm0Fk-Y4x",
        "outputId": "939b048f-2788-400e-c02b-7f1e3ecc1176"
      },
      "execution_count": 84,
      "outputs": [
        {
          "output_type": "stream",
          "name": "stdout",
          "text": [
            "\u001b[1m65/65\u001b[0m \u001b[32m━━━━━━━━━━━━━━━━━━━━\u001b[0m\u001b[37m\u001b[0m \u001b[1m0s\u001b[0m 6ms/step - accuracy: 0.9084 - loss: 0.3046\n",
            "Baseline Evaluation: [0.3118744194507599, 0.89422607421875]\n"
          ]
        }
      ]
    },
    {
      "cell_type": "markdown",
      "source": [
        "#   Define MLP with Tuner"
      ],
      "metadata": {
        "id": "dId_DeyKIR41"
      }
    },
    {
      "cell_type": "code",
      "source": [
        "\n",
        "def build_model(hp):\n",
        "    model = keras.Sequential()\n",
        "    model.add(layers.Input(shape=(X_train_scaled.shape[1],)))\n",
        "\n",
        "    for i in range(hp.Int(\"num_layers\", 1, 3)):\n",
        "        model.add(layers.Dense(\n",
        "            hp.Int(f\"units_{i}\", 64, 256, step=64),\n",
        "            activation='relu',\n",
        "            kernel_initializer='he_normal',                #  Weight Intialization using  He\n",
        "            kernel_regularizer=regularizers.l2(hp.Float(\"l2\", 1e-5, 1e-2, sampling='log'))\n",
        "        ))\n",
        "        model.add(layers.Dropout(hp.Float(\"dropout\", 0.2, 0.5, step=0.1)))          #   Drop outs\n",
        "\n",
        "    model.add(layers.Dense(1, activation=\"sigmoid\"))\n",
        "\n",
        "    model.compile(\n",
        "        optimizer=hp.Choice(\"optimizer\", [\"adam\", \"rmsprop\"]),\n",
        "        loss=\"binary_crossentropy\",\n",
        "        metrics=[\"accuracy\"]\n",
        "    )\n",
        "    return model\n"
      ],
      "metadata": {
        "id": "dVD99YPRArsz"
      },
      "execution_count": 85,
      "outputs": []
    },
    {
      "cell_type": "code",
      "source": [
        "import shutil\n",
        "import os\n",
        "\n",
        "# ⚠️ Step 1: Clean tuner cache to avoid shape mismatch\n",
        "if os.path.exists(\"keras_tuner\"):\n",
        "    shutil.rmtree(\"keras_tuner\")\n",
        "\n",
        "# ✅ Step 2: Create a fresh tuner with a new project name\n",
        "tuner = kt.RandomSearch(\n",
        "    build_model,\n",
        "    objective=\"val_accuracy\",\n",
        "    max_trials=5,\n",
        "    executions_per_trial=1,\n",
        "    directory=\"keras_tuner\",\n",
        "    project_name=\"car_insurance_fresh\"  # <-- new name avoids old tuner reuse\n",
        ")\n",
        "\n",
        "# Step 3: Train   <---  Early stopping Used\n",
        "early_stop = EarlyStopping(monitor=\"val_loss\", patience=5, restore_best_weights=True)\n",
        "tuner.search(X_train_scaled, y_train, epochs=50, validation_split=0.2, callbacks=[early_stop], verbose=2)\n",
        "best_model = tuner.get_best_models(1)[0]\n"
      ],
      "metadata": {
        "colab": {
          "base_uri": "https://localhost:8080/"
        },
        "id": "4tNC--viEQOO",
        "outputId": "ffa520b3-bedc-4d7c-a687-1d6c77530a22"
      },
      "execution_count": 86,
      "outputs": [
        {
          "output_type": "stream",
          "name": "stdout",
          "text": [
            "Trial 5 Complete [00h 00m 42s]\n",
            "val_accuracy: 0.9933292865753174\n",
            "\n",
            "Best val_accuracy So Far: 0.9975742697715759\n",
            "Total elapsed time: 00h 03m 32s\n"
          ]
        }
      ]
    },
    {
      "cell_type": "markdown",
      "source": [
        "#   Train Final Model"
      ],
      "metadata": {
        "id": "FSfZqalYIc-E"
      }
    },
    {
      "cell_type": "code",
      "source": [
        "\n",
        "history = best_model.fit(X_train_scaled, y_train, epochs=50, validation_data=(X_test_scaled, y_test), callbacks=[early_stop])\n",
        "\n",
        "\n",
        "# Plotting Loss , validation_loss\n",
        "\n",
        "plt.plot(history.history[\"loss\"], label=\"Train Loss\")\n",
        "plt.plot(history.history[\"val_loss\"], label=\"Val Loss\")\n",
        "plt.xlabel(\"Epochs\")\n",
        "plt.ylabel(\"Loss\")\n",
        "plt.legend()\n",
        "plt.title(\"Loss Curves\")\n",
        "plt.grid(True)\n",
        "plt.show()\n"
      ],
      "metadata": {
        "colab": {
          "base_uri": "https://localhost:8080/",
          "height": 1000
        },
        "id": "DWDY_Z8PBAoe",
        "outputId": "cb0c40fc-1f61-4c8e-faa3-a8fac9df3520"
      },
      "execution_count": 87,
      "outputs": [
        {
          "output_type": "stream",
          "name": "stdout",
          "text": [
            "Epoch 1/50\n",
            "\u001b[1m258/258\u001b[0m \u001b[32m━━━━━━━━━━━━━━━━━━━━\u001b[0m\u001b[37m\u001b[0m \u001b[1m3s\u001b[0m 4ms/step - accuracy: 0.9941 - loss: 0.0470 - val_accuracy: 0.9918 - val_loss: 0.0502\n",
            "Epoch 2/50\n",
            "\u001b[1m258/258\u001b[0m \u001b[32m━━━━━━━━━━━━━━━━━━━━\u001b[0m\u001b[37m\u001b[0m \u001b[1m1s\u001b[0m 3ms/step - accuracy: 0.9934 - loss: 0.0476 - val_accuracy: 0.9932 - val_loss: 0.0447\n",
            "Epoch 3/50\n",
            "\u001b[1m258/258\u001b[0m \u001b[32m━━━━━━━━━━━━━━━━━━━━\u001b[0m\u001b[37m\u001b[0m \u001b[1m1s\u001b[0m 3ms/step - accuracy: 0.9958 - loss: 0.0424 - val_accuracy: 0.9942 - val_loss: 0.0421\n",
            "Epoch 4/50\n",
            "\u001b[1m258/258\u001b[0m \u001b[32m━━━━━━━━━━━━━━━━━━━━\u001b[0m\u001b[37m\u001b[0m \u001b[1m1s\u001b[0m 3ms/step - accuracy: 0.9946 - loss: 0.0440 - val_accuracy: 0.9947 - val_loss: 0.0440\n",
            "Epoch 5/50\n",
            "\u001b[1m258/258\u001b[0m \u001b[32m━━━━━━━━━━━━━━━━━━━━\u001b[0m\u001b[37m\u001b[0m \u001b[1m1s\u001b[0m 3ms/step - accuracy: 0.9939 - loss: 0.0448 - val_accuracy: 0.9956 - val_loss: 0.0439\n",
            "Epoch 6/50\n",
            "\u001b[1m258/258\u001b[0m \u001b[32m━━━━━━━━━━━━━━━━━━━━\u001b[0m\u001b[37m\u001b[0m \u001b[1m2s\u001b[0m 5ms/step - accuracy: 0.9949 - loss: 0.0419 - val_accuracy: 0.9951 - val_loss: 0.0371\n",
            "Epoch 7/50\n",
            "\u001b[1m258/258\u001b[0m \u001b[32m━━━━━━━━━━━━━━━━━━━━\u001b[0m\u001b[37m\u001b[0m \u001b[1m2s\u001b[0m 3ms/step - accuracy: 0.9943 - loss: 0.0438 - val_accuracy: 0.9947 - val_loss: 0.0370\n",
            "Epoch 8/50\n",
            "\u001b[1m258/258\u001b[0m \u001b[32m━━━━━━━━━━━━━━━━━━━━\u001b[0m\u001b[37m\u001b[0m \u001b[1m1s\u001b[0m 3ms/step - accuracy: 0.9955 - loss: 0.0392 - val_accuracy: 0.9981 - val_loss: 0.0381\n",
            "Epoch 9/50\n",
            "\u001b[1m258/258\u001b[0m \u001b[32m━━━━━━━━━━━━━━━━━━━━\u001b[0m\u001b[37m\u001b[0m \u001b[1m1s\u001b[0m 4ms/step - accuracy: 0.9939 - loss: 0.0430 - val_accuracy: 0.9947 - val_loss: 0.0369\n",
            "Epoch 10/50\n",
            "\u001b[1m258/258\u001b[0m \u001b[32m━━━━━━━━━━━━━━━━━━━━\u001b[0m\u001b[37m\u001b[0m \u001b[1m1s\u001b[0m 3ms/step - accuracy: 0.9946 - loss: 0.0406 - val_accuracy: 0.9937 - val_loss: 0.0367\n",
            "Epoch 11/50\n",
            "\u001b[1m258/258\u001b[0m \u001b[32m━━━━━━━━━━━━━━━━━━━━\u001b[0m\u001b[37m\u001b[0m \u001b[1m1s\u001b[0m 3ms/step - accuracy: 0.9950 - loss: 0.0407 - val_accuracy: 0.9922 - val_loss: 0.0400\n",
            "Epoch 12/50\n",
            "\u001b[1m258/258\u001b[0m \u001b[32m━━━━━━━━━━━━━━━━━━━━\u001b[0m\u001b[37m\u001b[0m \u001b[1m1s\u001b[0m 3ms/step - accuracy: 0.9942 - loss: 0.0390 - val_accuracy: 0.9922 - val_loss: 0.0416\n",
            "Epoch 13/50\n",
            "\u001b[1m258/258\u001b[0m \u001b[32m━━━━━━━━━━━━━━━━━━━━\u001b[0m\u001b[37m\u001b[0m \u001b[1m1s\u001b[0m 3ms/step - accuracy: 0.9952 - loss: 0.0399 - val_accuracy: 0.9956 - val_loss: 0.0347\n",
            "Epoch 14/50\n",
            "\u001b[1m258/258\u001b[0m \u001b[32m━━━━━━━━━━━━━━━━━━━━\u001b[0m\u001b[37m\u001b[0m \u001b[1m1s\u001b[0m 3ms/step - accuracy: 0.9936 - loss: 0.0438 - val_accuracy: 0.9956 - val_loss: 0.0355\n",
            "Epoch 15/50\n",
            "\u001b[1m258/258\u001b[0m \u001b[32m━━━━━━━━━━━━━━━━━━━━\u001b[0m\u001b[37m\u001b[0m \u001b[1m1s\u001b[0m 3ms/step - accuracy: 0.9950 - loss: 0.0406 - val_accuracy: 0.9947 - val_loss: 0.0367\n",
            "Epoch 16/50\n",
            "\u001b[1m258/258\u001b[0m \u001b[32m━━━━━━━━━━━━━━━━━━━━\u001b[0m\u001b[37m\u001b[0m \u001b[1m1s\u001b[0m 5ms/step - accuracy: 0.9944 - loss: 0.0388 - val_accuracy: 0.9937 - val_loss: 0.0377\n",
            "Epoch 17/50\n",
            "\u001b[1m258/258\u001b[0m \u001b[32m━━━━━━━━━━━━━━━━━━━━\u001b[0m\u001b[37m\u001b[0m \u001b[1m1s\u001b[0m 5ms/step - accuracy: 0.9952 - loss: 0.0384 - val_accuracy: 0.9937 - val_loss: 0.0374\n",
            "Epoch 18/50\n",
            "\u001b[1m258/258\u001b[0m \u001b[32m━━━━━━━━━━━━━━━━━━━━\u001b[0m\u001b[37m\u001b[0m \u001b[1m2s\u001b[0m 4ms/step - accuracy: 0.9944 - loss: 0.0403 - val_accuracy: 0.9956 - val_loss: 0.0328\n",
            "Epoch 19/50\n",
            "\u001b[1m258/258\u001b[0m \u001b[32m━━━━━━━━━━━━━━━━━━━━\u001b[0m\u001b[37m\u001b[0m \u001b[1m1s\u001b[0m 3ms/step - accuracy: 0.9954 - loss: 0.0356 - val_accuracy: 0.9951 - val_loss: 0.0371\n",
            "Epoch 20/50\n",
            "\u001b[1m258/258\u001b[0m \u001b[32m━━━━━━━━━━━━━━━━━━━━\u001b[0m\u001b[37m\u001b[0m \u001b[1m1s\u001b[0m 3ms/step - accuracy: 0.9948 - loss: 0.0386 - val_accuracy: 0.9951 - val_loss: 0.0347\n",
            "Epoch 21/50\n",
            "\u001b[1m258/258\u001b[0m \u001b[32m━━━━━━━━━━━━━━━━━━━━\u001b[0m\u001b[37m\u001b[0m \u001b[1m1s\u001b[0m 3ms/step - accuracy: 0.9936 - loss: 0.0392 - val_accuracy: 0.9976 - val_loss: 0.0328\n",
            "Epoch 22/50\n",
            "\u001b[1m258/258\u001b[0m \u001b[32m━━━━━━━━━━━━━━━━━━━━\u001b[0m\u001b[37m\u001b[0m \u001b[1m1s\u001b[0m 3ms/step - accuracy: 0.9959 - loss: 0.0355 - val_accuracy: 0.9956 - val_loss: 0.0337\n",
            "Epoch 23/50\n",
            "\u001b[1m258/258\u001b[0m \u001b[32m━━━━━━━━━━━━━━━━━━━━\u001b[0m\u001b[37m\u001b[0m \u001b[1m1s\u001b[0m 3ms/step - accuracy: 0.9955 - loss: 0.0380 - val_accuracy: 0.9961 - val_loss: 0.0338\n"
          ]
        },
        {
          "output_type": "display_data",
          "data": {
            "text/plain": [
              "<Figure size 640x480 with 1 Axes>"
            ],
            "image/png": "[encoded data removed]"
          },
          "metadata": {}
        }
      ]
    },
    {
      "cell_type": "markdown",
      "source": [
        "Loss and validation loss difference is low so it is not overfitting"
      ],
      "metadata": {
        "id": "rybtgoZQXHBa"
      }
    },
    {
      "cell_type": "markdown",
      "source": [
        "#  Evaluatation"
      ],
      "metadata": {
        "id": "Ch6w8EZMIoVh"
      }
    },
    {
      "cell_type": "code",
      "source": [
        "\n",
        "loss, accuracy = best_model.evaluate(X_test_scaled, y_test)\n",
        "y_pred = (best_model.predict(X_test_scaled) > 0.5).astype(\"int32\")\n",
        "print(\"Classification Report:\\n\", classification_report(y_test, y_pred))\n",
        "print(\"Confusion Matrix:\\n\", confusion_matrix(y_test, y_pred))\n",
        "print(\"ROC-AUC Score:\", roc_auc_score(y_test, y_pred))\n",
        "\n",
        "\n"
      ],
      "metadata": {
        "colab": {
          "base_uri": "https://localhost:8080/"
        },
        "id": "d3sWPuWoBEZo",
        "outputId": "1f2206ea-a14b-4807-cbd2-49d7d39d00a8"
      },
      "execution_count": 88,
      "outputs": [
        {
          "output_type": "stream",
          "name": "stdout",
          "text": [
            "\u001b[1m65/65\u001b[0m \u001b[32m━━━━━━━━━━━━━━━━━━━━\u001b[0m\u001b[37m\u001b[0m \u001b[1m0s\u001b[0m 2ms/step - accuracy: 0.9953 - loss: 0.0326\n",
            "\u001b[1m65/65\u001b[0m \u001b[32m━━━━━━━━━━━━━━━━━━━━\u001b[0m\u001b[37m\u001b[0m \u001b[1m0s\u001b[0m 2ms/step\n",
            "Classification Report:\n",
            "               precision    recall  f1-score   support\n",
            "\n",
            "           0       0.99      1.00      1.00      1506\n",
            "           1       1.00      0.98      0.99       555\n",
            "\n",
            "    accuracy                           1.00      2061\n",
            "   macro avg       1.00      0.99      0.99      2061\n",
            "weighted avg       1.00      1.00      1.00      2061\n",
            "\n",
            "Confusion Matrix:\n",
            " [[1506    0]\n",
            " [   9  546]]\n",
            "ROC-AUC Score: 0.991891891891892\n"
          ]
        }
      ]
    },
    {
      "cell_type": "code",
      "source": [
        "# Save trained model\n",
        "best_model.save(\"car_insurance_mlp_best_model.h5\")\n",
        "\n",
        "# Save the scaler\n",
        "import joblib\n",
        "joblib.dump(scaler, \"scaler.pkl\")\n"
      ],
      "metadata": {
        "colab": {
          "base_uri": "https://localhost:8080/"
        },
        "id": "aewDiyjuVpBJ",
        "outputId": "e5cf21fd-368f-4235-d8c7-d2f1f83450ed"
      },
      "execution_count": 89,
      "outputs": [
        {
          "output_type": "stream",
          "name": "stderr",
          "text": [
            "WARNING:absl:You are saving your model as an HDF5 file via `model.save()` or `keras.saving.save_model(model)`. This file format is considered legacy. We recommend using instead the native Keras format, e.g. `model.save('my_model.keras')` or `keras.saving.save_model(model, 'my_model.keras')`. \n"
          ]
        },
        {
          "output_type": "execute_result",
          "data": {
            "text/plain": [
              "['scaler.pkl']"
            ]
          },
          "metadata": {},
          "execution_count": 89
        }
      ]
    },
    {
      "cell_type": "code",
      "source": [
        "import pandas as pd\n",
        "import numpy as np\n",
        "from tensorflow.keras.models import load_model\n",
        "import joblib\n",
        "\n",
        "\n",
        "model = load_model(\"car_insurance_mlp_best_model.h5\")\n",
        "scaler = joblib.load(\"scaler.pkl\")\n",
        "\n",
        "#input\n",
        "input_data = {\n",
        "    'KIDSDRIV': 1,\n",
        "    'AGE': 40,\n",
        "    'HOMEKIDS': 0,\n",
        "    'YOJ': 12,\n",
        "    'INCOME': 60000.0,\n",
        "    'HOME_VAL': 180000.0,\n",
        "    'TRAVTIME': 25,\n",
        "    'BLUEBOOK': 15000.0,\n",
        "    'TIF': 3,\n",
        "    'OLDCLAIM': 0.0,\n",
        "    'CLM_FREQ': 0,\n",
        "    'MVR_PTS': 2,\n",
        "    'CLM_AMT': 0.0,\n",
        "    'CAR_AGE': 5,\n",
        "\n",
        "    # One-hot encoded categorical features like:\n",
        "    'PARENT1_Yes': 1,\n",
        "    'MSTATUS_Yes': 1,\n",
        "    'GENDER_M': 1,\n",
        "    'EDUCATION_Bachelors': 1,\n",
        "    'OCCUPATION_Professional': 1,\n",
        "    'CAR_USE_Private': 1,\n",
        "    'CAR_TYPE_SUV': 1,\n",
        "    'RED_CAR_Yes': 0,\n",
        "    'REVOKED_Yes': 0,\n",
        "    'URBANICITY_Urban': 1,\n",
        "}\n",
        "\n",
        "input_df = pd.DataFrame([input_data])\n",
        "\n",
        "for col in X_train.columns:\n",
        "    if col not in input_df.columns:\n",
        "        input_df[col] = 0\n",
        "input_df = input_df[X_train.columns]\n",
        "\n",
        "scaled_input = scaler.transform(input_df)\n",
        "\n",
        "prediction = model.predict(scaled_input)\n",
        "predicted_class = int(prediction[0][0] > 0.5)\n",
        "confidence = float(prediction[0][0])\n",
        "\n",
        "print(f\"Prediction: {'CLAIM' if predicted_class == 1 else 'NO CLAIM'}\")\n",
        "print(f\"Confidence: {confidence:.4f}\")\n"
      ],
      "metadata": {
        "colab": {
          "base_uri": "https://localhost:8080/"
        },
        "id": "wnNe5RhNV9F0",
        "outputId": "91cb1e5e-a538-4da7-ddcd-b162b65ef46f"
      },
      "execution_count": 90,
      "outputs": [
        {
          "output_type": "stream",
          "name": "stderr",
          "text": [
            "WARNING:absl:Compiled the loaded model, but the compiled metrics have yet to be built. `model.compile_metrics` will be empty until you train or evaluate the model.\n"
          ]
        },
        {
          "output_type": "stream",
          "name": "stdout",
          "text": [
            "\u001b[1m1/1\u001b[0m \u001b[32m━━━━━━━━━━━━━━━━━━━━\u001b[0m\u001b[37m\u001b[0m \u001b[1m0s\u001b[0m 73ms/step\n",
            "Prediction: NO CLAIM\n",
            "Confidence: 0.0015\n"
          ]
        }
      ]
    }
  ],
  "metadata": {
    "colab": {
      "provenance": []
    },
    "kernelspec": {
      "display_name": "Python 3",
      "name": "python3"
    },
    "language_info": {
      "name": "python"
    }
  },
  "nbformat": 4,
  "nbformat_minor": 0
}